{
 "cells": [
  {
   "cell_type": "code",
   "execution_count": 1,
   "id": "7a521b12",
   "metadata": {},
   "outputs": [
    {
     "name": "stdout",
     "output_type": "stream",
     "text": [
      "✅ Project root: D:\\Academico\\SENATI\\octavo_ciclo\\appBigData\n"
     ]
    }
   ],
   "source": [
    "# Agregar src al path y probar imports\n",
    "\n",
    "import sys\n",
    "from pathlib import Path\n",
    "\n",
    "# Agregar directorio raíz al path\n",
    "project_root = Path.cwd().parent\n",
    "sys.path.insert(0, str(project_root))\n",
    "\n",
    "print(f\"✅ Project root: {project_root}\")"
   ]
  },
  {
   "cell_type": "code",
   "execution_count": 2,
   "id": "068f6e9b",
   "metadata": {},
   "outputs": [
    {
     "name": "stdout",
     "output_type": "stream",
     "text": [
      "✅ Configuración cargada correctamente\n",
      "📋 Configuración cargada:\n",
      "   Sakila DB: sakila\n",
      "   Data Mart DB: sakila_dw\n",
      "   Staging DB: sakila_staging\n",
      "   Batch Size: 1000\n",
      "   Log Level: INFO\n"
     ]
    }
   ],
   "source": [
    "# Probar carga de configuración\n",
    "from config.config import Config\n",
    "\n",
    "print(\"📋 Configuración cargada:\")\n",
    "print(f\"   Sakila DB: {Config.SAKILA_CONFIG['database']}\")\n",
    "print(f\"   Data Mart DB: {Config.DM_CONFIG['database']}\")\n",
    "print(f\"   Staging DB: {Config.STAGING_CONFIG['database']}\")\n",
    "print(f\"   Batch Size: {Config.ETL_BATCH_SIZE}\")\n",
    "print(f\"   Log Level: {Config.ETL_LOG_LEVEL}\")"
   ]
  },
  {
   "cell_type": "code",
   "execution_count": 3,
   "id": "e9de5afe",
   "metadata": {},
   "outputs": [
    {
     "name": "stdout",
     "output_type": "stream",
     "text": [
      "\u001b[32m03:46:17 | test_config | INFO\u001b[0m | Probando logger INFO\u001b[0m\n",
      "\u001b[33m03:46:17 | test_config | WARNING\u001b[0m | Probando logger WARNING\u001b[0m\n",
      "\u001b[31m03:46:17 | test_config | ERROR\u001b[0m | Probando logger ERROR\u001b[0m\n"
     ]
    }
   ],
   "source": [
    "# Probar logger\n",
    "from src.logger_config import get_logger\n",
    "\n",
    "logger = get_logger('test_config')\n",
    "\n",
    "logger.info(\"Probando logger INFO\")\n",
    "logger.warning(\"Probando logger WARNING\")\n",
    "logger.error(\"Probando logger ERROR\")"
   ]
  },
  {
   "cell_type": "code",
   "execution_count": 5,
   "id": "62411fa8",
   "metadata": {},
   "outputs": [
    {
     "name": "stdout",
     "output_type": "stream",
     "text": [
      "\u001b[32m03:46:37 | test_config | INFO\u001b[0m | ✅ Conexión a Sakila exitosa\u001b[0m\n",
      "\u001b[32m03:46:37 | test_config | INFO\u001b[0m |    Total películas en Sakila: 1000\u001b[0m\n"
     ]
    }
   ],
   "source": [
    "# Probar conexión a Sakila\n",
    "from sqlalchemy import create_engine\n",
    "import pandas as pd\n",
    "\n",
    "try:\n",
    "    engine_sakila = create_engine(Config.get_sakila_connection_string())\n",
    "    \n",
    "    # Probar consulta simple\n",
    "    query = \"SELECT COUNT(*) as total_films FROM film\"\n",
    "    df = pd.read_sql(query, engine_sakila)\n",
    "    \n",
    "    logger.info(f\"✅ Conexión a Sakila exitosa\")\n",
    "    logger.info(f\"   Total películas en Sakila: {df['total_films'].iloc[0]}\")\n",
    "    \n",
    "except Exception as e:\n",
    "    logger.error(f\"❌ Error conectando a Sakila: {e}\")"
   ]
  },
  {
   "cell_type": "code",
   "execution_count": 7,
   "id": "90065fad",
   "metadata": {},
   "outputs": [
    {
     "name": "stdout",
     "output_type": "stream",
     "text": [
      "\u001b[32m03:48:27 | test_config | INFO\u001b[0m | ✅ Base de datos Staging verificada: sakila_staging\u001b[0m\n",
      "\u001b[32m03:48:27 | test_config | INFO\u001b[0m | ✅ Base de datos Data Mart verificada: sakila_dw\u001b[0m\n"
     ]
    }
   ],
   "source": [
    "# Verificar que las bases de datos existen\n",
    "from sqlalchemy import text\n",
    "\n",
    "try:\n",
    "    # Verificar Staging DB\n",
    "    query_staging = text(f\"CREATE DATABASE IF NOT EXISTS {Config.STAGING_CONFIG['database']}\")\n",
    "    with engine_sakila.connect() as conn:\n",
    "        conn.execute(query_staging)\n",
    "        conn.commit()\n",
    "    \n",
    "    logger.info(f\"✅ Base de datos Staging verificada: {Config.STAGING_CONFIG['database']}\")\n",
    "    \n",
    "    # Verificar Data Mart DB\n",
    "    query_dm = text(f\"CREATE DATABASE IF NOT EXISTS {Config.DM_CONFIG['database']}\")\n",
    "    with engine_sakila.connect() as conn:\n",
    "        conn.execute(query_dm)\n",
    "        conn.commit()\n",
    "    \n",
    "    logger.info(f\"✅ Base de datos Data Mart verificada: {Config.DM_CONFIG['database']}\")\n",
    "    \n",
    "except Exception as e:\n",
    "    logger.error(f\"❌ Error creando bases de datos: {e}\")\n"
   ]
  }
 ],
 "metadata": {
  "kernelspec": {
   "display_name": "Python 3 (ipykernel)",
   "language": "python",
   "name": "python3"
  },
  "language_info": {
   "codemirror_mode": {
    "name": "ipython",
    "version": 3
   },
   "file_extension": ".py",
   "mimetype": "text/x-python",
   "name": "python",
   "nbconvert_exporter": "python",
   "pygments_lexer": "ipython3",
   "version": "3.12.11"
  }
 },
 "nbformat": 4,
 "nbformat_minor": 5
}
